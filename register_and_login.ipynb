{
  "nbformat": 4,
  "nbformat_minor": 0,
  "metadata": {
    "colab": {
      "name": "register and_login",
      "provenance": [],
      "collapsed_sections": [],
      "authorship_tag": "ABX9TyN7wBnMQX/ErMO/W28Chay+",
      "include_colab_link": true
    },
    "kernelspec": {
      "name": "python3",
      "display_name": "Python 3"
    },
    "language_info": {
      "name": "python"
    }
  },
  "cells": [
    {
      "cell_type": "markdown",
      "metadata": {
        "id": "view-in-github",
        "colab_type": "text"
      },
      "source": [
        "<a href=\"https://colab.research.google.com/github/Rajeshwarinm26/register-and-login/blob/main/register_and_login.ipynb\" target=\"_parent\"><img src=\"https://colab.research.google.com/assets/colab-badge.svg\" alt=\"Open In Colab\"/></a>"
      ]
    },
    {
      "cell_type": "code",
      "execution_count": null,
      "metadata": {
        "id": "bEUJGssBgtk0"
      },
      "outputs": [],
      "source": [
        "import csv\n",
        "import re\n",
        "\n",
        "def register():\n",
        "  with open(\"users.csv\",mode=\"a\",newline=\"\") as f:\n",
        "    writer=csv.writer(f,delimiter=\",\")\n",
        "    email=input(\"Please enter email: \")\n",
        "    password=input(\"Please enter the password: \")\n",
        "\n",
        "    pattern='^[a-z 0-9]+[\\._]?[a-z 0-9]+[@]\\w+[.]\\w{2,3}$'\n",
        "    email=input(\"Enter your email: \")\n",
        "    if re.search(pattern,email):\n",
        "      print(\"valid email\")\n",
        "    else:\n",
        "      print('invalid email')\n",
        "\n",
        "    pattern=\"^.*(?=.{5,12})(?=.*\\d)(?=.*[a-z])(?=.*[A-Z])(?=.*[!@#$%&]).*$\"\n",
        "    password=input(\"Enter your password: \")\n",
        "    result=re.findall(pattern,password)\n",
        "    if(result):\n",
        "      print(\"password is valid\")\n",
        "    else:\n",
        "      print(\"password is not valid\")\n",
        "\n",
        "\n",
        "\n",
        "\n",
        "    \n",
        "\n",
        "def login():\n",
        "  email=input(\"Please enter email: \")\n",
        "  password=input(\"Please enter the password: \")\n",
        "  with open(\"users.csv\",mode=\"r\") as f:\n",
        "    reader=csv.reader(f,delimiter=\",\")\n",
        "    for row in reader:\n",
        "      if row==[email,password]:\n",
        "        print(\"You are logged in!\")\n",
        "        return True\n",
        "      \n",
        "      print(\"login failed, please try again.\")\n",
        "      return False\n",
        "\n",
        "    \n",
        "        \n",
        "\n",
        "\n",
        "register()\n",
        "login()"
      ]
    }
  ]
}